{
 "cells": [
  {
   "cell_type": "markdown",
   "id": "aa93271e-a2c2-4bbc-b276-2251ff34b3ff",
   "metadata": {},
   "source": [
    "# Data Science Tools and Ecosystem"
   ]
  },
  {
   "cell_type": "markdown",
   "id": "862bf209-b05d-49da-a9ae-18790d7bda7a",
   "metadata": {},
   "source": [
    "# In this notebook, Data Science Tools and Ecosystem are summarized"
   ]
  },
  {
   "cell_type": "markdown",
   "id": "1ba14ece-64a5-4153-94a8-cb6ed7d252b5",
   "metadata": {
    "tags": []
   },
   "source": [
    "## Some of the popular languages of data Scientists use are:\n",
    "\n",
    "* 1. Python\n",
    "* 2. SQL\n",
    "* 3. R\n",
    "* 4. C++\n",
    "* 5. Java"
   ]
  },
  {
   "cell_type": "markdown",
   "id": "702e1181-a705-43d1-9cc0-640aa1eb0d84",
   "metadata": {
    "tags": []
   },
   "source": [
    "# Some of the commonly used libraries used by Data Scientist include:\n",
    "    \n",
    "    * 1. Numpy\n",
    "    * 2. Pandas\n",
    "    * 3. SciPy\n",
    "    * 4. Matplotlib\n",
    "    * 5. TensorFlow"
   ]
  },
  {
   "cell_type": "markdown",
   "id": "f91cd7a9-ff9e-402a-9890-44db64e7a510",
   "metadata": {},
   "source": [
    "# Data Science Tools\n",
    "\n",
    "* 1. Jupyter Notebook\n",
    "* 2. R Studio's\n",
    "* 3. Zeppelin Notebooks"
   ]
  },
  {
   "cell_type": "markdown",
   "id": "4ccf0856-ef73-4add-8b5c-250dfb4d6b51",
   "metadata": {},
   "source": [
    "### Below are a few examples of evaluating arithmetic expressions in Python"
   ]
  },
  {
   "cell_type": "code",
   "execution_count": 11,
   "id": "6be958fd-143c-4f29-befc-c3b4c73cef8a",
   "metadata": {
    "tags": []
   },
   "outputs": [
    {
     "name": "stdout",
     "output_type": "stream",
     "text": [
      "This a simple arithmetic expression to multiply then add intergers\n"
     ]
    },
    {
     "data": {
      "text/plain": [
       "17"
      ]
     },
     "execution_count": 11,
     "metadata": {},
     "output_type": "execute_result"
    }
   ],
   "source": [
    "print (\"This a simple arithmetic expression to multiply then add intergers\")\n",
    "\n",
    "(3*4)+5"
   ]
  },
  {
   "cell_type": "code",
   "execution_count": 34,
   "id": "6c0d945d-ce71-487a-9a1f-fca0964528e4",
   "metadata": {
    "tags": []
   },
   "outputs": [
    {
     "name": "stdout",
     "output_type": "stream",
     "text": [
      "This will convert 200 minutes too hours by dividing by 60\n"
     ]
    },
    {
     "data": {
      "text/plain": [
       "3.3333333333333335"
      ]
     },
     "execution_count": 34,
     "metadata": {},
     "output_type": "execute_result"
    }
   ],
   "source": [
    "print (\"This will convert 200 minutes too hours by dividing by 60\")\n",
    "\n",
    "(200/60)\n"
   ]
  },
  {
   "cell_type": "markdown",
   "id": "6becd239-0d48-4805-ab24-878135e02e40",
   "metadata": {},
   "source": [
    "# _Objectives:_\n",
    "\n",
    "* SQL\n",
    "* Julia\n",
    "* Java\n",
    "* C++\n",
    "* R"
   ]
  },
  {
   "cell_type": "markdown",
   "id": "807869bb-3495-4cd1-b13d-ee64e2e29a45",
   "metadata": {},
   "source": [
    "## Author\n",
    "# Joseph Gamboa"
   ]
  },
  {
   "cell_type": "code",
   "execution_count": null,
   "id": "d21439bd-262f-41b1-9ebc-2c9d7eedb9af",
   "metadata": {},
   "outputs": [],
   "source": []
  }
 ],
 "metadata": {
  "kernelspec": {
   "display_name": "Python",
   "language": "python",
   "name": "conda-env-python-py"
  },
  "language_info": {
   "codemirror_mode": {
    "name": "ipython",
    "version": 3
   },
   "file_extension": ".py",
   "mimetype": "text/x-python",
   "name": "python",
   "nbconvert_exporter": "python",
   "pygments_lexer": "ipython3",
   "version": "3.7.12"
  }
 },
 "nbformat": 4,
 "nbformat_minor": 5
}
